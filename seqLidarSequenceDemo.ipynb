{
 "cells": [
  {
   "cell_type": "markdown",
   "id": "f2c44061-7718-44b7-b035-07ed39dd1dc5",
   "metadata": {},
   "source": [
    "This is the sample model for training the Pandaset dataset to get XYZ and I coordinates to return the type\n",
    "of objects that are in the dataset : Jacob Igo, Paragon Autonamous\n"
   ]
  },
  {
   "cell_type": "code",
   "execution_count": 49,
   "id": "f7985e3c-d93f-4e83-a3aa-3bfb08cd08d9",
   "metadata": {},
   "outputs": [],
   "source": [
    "#import libraries\n",
    "import pandas as pd\n",
    "import numpy as np\n",
    "from torch.utils.data import Dataset\n",
    "from sklearn.ensemble import RandomForestClassifier\n",
    "from sklearn.model_selection import train_test_split\n",
    "from sklearn import metrics\n",
    "import matplotlib.pyplot as plt\n",
    "from sklearn import preprocessing\n",
    "from sklearn.preprocessing import label_binarize\n",
    "from sklearn.metrics import roc_curve, auc"
   ]
  },
  {
   "cell_type": "code",
   "execution_count": 50,
   "id": "f814245b-4649-4075-911d-4cac27161dff",
   "metadata": {},
   "outputs": [
    {
     "data": {
      "text/html": [
       "<div>\n",
       "<style scoped>\n",
       "    .dataframe tbody tr th:only-of-type {\n",
       "        vertical-align: middle;\n",
       "    }\n",
       "\n",
       "    .dataframe tbody tr th {\n",
       "        vertical-align: top;\n",
       "    }\n",
       "\n",
       "    .dataframe thead th {\n",
       "        text-align: right;\n",
       "    }\n",
       "</style>\n",
       "<table border=\"1\" class=\"dataframe\">\n",
       "  <thead>\n",
       "    <tr style=\"text-align: right;\">\n",
       "      <th></th>\n",
       "      <th>x</th>\n",
       "      <th>y</th>\n",
       "      <th>z</th>\n",
       "      <th>i</th>\n",
       "      <th>t</th>\n",
       "      <th>d</th>\n",
       "      <th>class</th>\n",
       "    </tr>\n",
       "  </thead>\n",
       "  <tbody>\n",
       "    <tr>\n",
       "      <th>0</th>\n",
       "      <td>-75.131138</td>\n",
       "      <td>-79.331690</td>\n",
       "      <td>3.511804</td>\n",
       "      <td>7</td>\n",
       "      <td>1.557540e+09</td>\n",
       "      <td>0</td>\n",
       "      <td>5</td>\n",
       "    </tr>\n",
       "    <tr>\n",
       "      <th>1</th>\n",
       "      <td>-112.588306</td>\n",
       "      <td>-118.666002</td>\n",
       "      <td>1.423499</td>\n",
       "      <td>31</td>\n",
       "      <td>1.557540e+09</td>\n",
       "      <td>0</td>\n",
       "      <td>5</td>\n",
       "    </tr>\n",
       "    <tr>\n",
       "      <th>2</th>\n",
       "      <td>-42.085902</td>\n",
       "      <td>-44.384891</td>\n",
       "      <td>0.593491</td>\n",
       "      <td>7</td>\n",
       "      <td>1.557540e+09</td>\n",
       "      <td>0</td>\n",
       "      <td>14</td>\n",
       "    </tr>\n",
       "    <tr>\n",
       "      <th>3</th>\n",
       "      <td>-27.329435</td>\n",
       "      <td>-28.795053</td>\n",
       "      <td>-0.403781</td>\n",
       "      <td>0</td>\n",
       "      <td>1.557540e+09</td>\n",
       "      <td>0</td>\n",
       "      <td>7</td>\n",
       "    </tr>\n",
       "    <tr>\n",
       "      <th>4</th>\n",
       "      <td>-6.196208</td>\n",
       "      <td>-6.621082</td>\n",
       "      <td>1.130009</td>\n",
       "      <td>3</td>\n",
       "      <td>1.557540e+09</td>\n",
       "      <td>0</td>\n",
       "      <td>13</td>\n",
       "    </tr>\n",
       "  </tbody>\n",
       "</table>\n",
       "</div>"
      ],
      "text/plain": [
       "            x           y         z   i             t  d  class\n",
       "0  -75.131138  -79.331690  3.511804   7  1.557540e+09  0      5\n",
       "1 -112.588306 -118.666002  1.423499  31  1.557540e+09  0      5\n",
       "2  -42.085902  -44.384891  0.593491   7  1.557540e+09  0     14\n",
       "3  -27.329435  -28.795053 -0.403781   0  1.557540e+09  0      7\n",
       "4   -6.196208   -6.621082  1.130009   3  1.557540e+09  0     13"
      ]
     },
     "execution_count": 50,
     "metadata": {},
     "output_type": "execute_result"
    }
   ],
   "source": [
    "#read in data\n",
    "df = pd.read_csv('SecondSeq_Lidar_FirstPkl.csv')\n",
    "\n",
    "df.dropna()\n",
    "df.head()"
   ]
  },
  {
   "cell_type": "code",
   "execution_count": 51,
   "id": "ebf9947a-0de2-4800-9e5e-d51a1a0e13ad",
   "metadata": {},
   "outputs": [
    {
     "data": {
      "text/html": [
       "<div>\n",
       "<style scoped>\n",
       "    .dataframe tbody tr th:only-of-type {\n",
       "        vertical-align: middle;\n",
       "    }\n",
       "\n",
       "    .dataframe tbody tr th {\n",
       "        vertical-align: top;\n",
       "    }\n",
       "\n",
       "    .dataframe thead th {\n",
       "        text-align: right;\n",
       "    }\n",
       "</style>\n",
       "<table border=\"1\" class=\"dataframe\">\n",
       "  <thead>\n",
       "    <tr style=\"text-align: right;\">\n",
       "      <th></th>\n",
       "      <th>0</th>\n",
       "      <th>1</th>\n",
       "      <th>2</th>\n",
       "      <th>3</th>\n",
       "      <th>4</th>\n",
       "      <th>5</th>\n",
       "      <th>6</th>\n",
       "    </tr>\n",
       "  </thead>\n",
       "  <tbody>\n",
       "    <tr>\n",
       "      <th>0</th>\n",
       "      <td>0.201288</td>\n",
       "      <td>0.153526</td>\n",
       "      <td>0.284430</td>\n",
       "      <td>0.027451</td>\n",
       "      <td>0.398635</td>\n",
       "      <td>0.0</td>\n",
       "      <td>0.026316</td>\n",
       "    </tr>\n",
       "    <tr>\n",
       "      <th>1</th>\n",
       "      <td>0.098274</td>\n",
       "      <td>0.045645</td>\n",
       "      <td>0.220468</td>\n",
       "      <td>0.121569</td>\n",
       "      <td>0.398659</td>\n",
       "      <td>0.0</td>\n",
       "      <td>0.026316</td>\n",
       "    </tr>\n",
       "    <tr>\n",
       "      <th>2</th>\n",
       "      <td>0.292168</td>\n",
       "      <td>0.249373</td>\n",
       "      <td>0.195046</td>\n",
       "      <td>0.027451</td>\n",
       "      <td>0.398657</td>\n",
       "      <td>0.0</td>\n",
       "      <td>0.263158</td>\n",
       "    </tr>\n",
       "    <tr>\n",
       "      <th>3</th>\n",
       "      <td>0.332751</td>\n",
       "      <td>0.292131</td>\n",
       "      <td>0.164502</td>\n",
       "      <td>0.000000</td>\n",
       "      <td>0.398653</td>\n",
       "      <td>0.0</td>\n",
       "      <td>0.078947</td>\n",
       "    </tr>\n",
       "    <tr>\n",
       "      <th>4</th>\n",
       "      <td>0.390872</td>\n",
       "      <td>0.352946</td>\n",
       "      <td>0.211479</td>\n",
       "      <td>0.011765</td>\n",
       "      <td>0.398634</td>\n",
       "      <td>0.0</td>\n",
       "      <td>0.236842</td>\n",
       "    </tr>\n",
       "  </tbody>\n",
       "</table>\n",
       "</div>"
      ],
      "text/plain": [
       "          0         1         2         3         4    5         6\n",
       "0  0.201288  0.153526  0.284430  0.027451  0.398635  0.0  0.026316\n",
       "1  0.098274  0.045645  0.220468  0.121569  0.398659  0.0  0.026316\n",
       "2  0.292168  0.249373  0.195046  0.027451  0.398657  0.0  0.263158\n",
       "3  0.332751  0.292131  0.164502  0.000000  0.398653  0.0  0.078947\n",
       "4  0.390872  0.352946  0.211479  0.011765  0.398634  0.0  0.236842"
      ]
     },
     "execution_count": 51,
     "metadata": {},
     "output_type": "execute_result"
    }
   ],
   "source": [
    "#after normalizing\n",
    "normalized = preprocessing.MinMaxScaler().fit_transform(df)\n",
    "df2 = pd.DataFrame(normalized)\n",
    "df2.head()"
   ]
  },
  {
   "cell_type": "code",
   "execution_count": 52,
   "id": "7f57fb61-f209-4f65-9d5b-906ce4f57b34",
   "metadata": {},
   "outputs": [],
   "source": [
    "#split into input/output variables\n",
    "preX = df.iloc[:, 0:4]\n",
    "normalX = preprocessing.MinMaxScaler().fit_transform(preX)\n",
    "X = pd.DataFrame(normalX)\n",
    "y = df.iloc[:, 6]"
   ]
  },
  {
   "cell_type": "code",
   "execution_count": 53,
   "id": "e25e1db1-ea70-4d00-be6d-82dd482a340d",
   "metadata": {},
   "outputs": [
    {
     "name": "stdout",
     "output_type": "stream",
     "text": [
      "[41  5 41 ... 13  7 41]\n"
     ]
    }
   ],
   "source": [
    "#split variables into testing and training sets\n",
    "X_train, X_test, y_train, y_test = train_test_split(X, y, test_size=0.3, random_state=100)\n",
    "\n",
    "#initialize model\n",
    "rf_class = RandomForestClassifier(criterion=\"gini\", min_samples_leaf=1, min_samples_split=10, random_state=1234)\n",
    "\n",
    "#train\n",
    "rf_class.fit(X_train, y_train)\n",
    "\n",
    "#predict\n",
    "y_pred = rf_class.predict(X_test)\n",
    "print(y_pred)"
   ]
  },
  {
   "cell_type": "code",
   "execution_count": 56,
   "id": "566401d8-ad50-4dde-9717-292f9fd3d7a1",
   "metadata": {},
   "outputs": [
    {
     "name": "stdout",
     "output_type": "stream",
     "text": [
      "Accuracy: 0.9855289720373368\n",
      "Precision Score: 0.9845522250362089\n",
      "Recall Score:  0.9855289720373368\n",
      "F1 Score:  0.9845579127790323\n",
      "61528     41\n",
      "114762     5\n",
      "22096     41\n",
      "5427      11\n",
      "157870     7\n",
      "          ..\n",
      "80356     42\n",
      "160152     7\n",
      "144969    13\n",
      "30666      7\n",
      "63361     41\n",
      "Name: class, Length: 50031, dtype: int64\n"
     ]
    },
    {
     "name": "stderr",
     "output_type": "stream",
     "text": [
      "C:\\Users\\jacob\\AppData\\Roaming\\Python\\Python312\\site-packages\\sklearn\\metrics\\_classification.py:1565: UndefinedMetricWarning: Precision is ill-defined and being set to 0.0 in labels with no predicted samples. Use `zero_division` parameter to control this behavior.\n",
      "  _warn_prf(average, modifier, f\"{metric.capitalize()} is\", len(result))\n"
     ]
    }
   ],
   "source": [
    "#get accuracy scores\n",
    "rf_y_true = y_test\n",
    "\n",
    "accuracy = metrics.accuracy_score(rf_y_true, y_pred)\n",
    "precision = metrics.precision_score(rf_y_true, y_pred, average=\"weighted\")\n",
    "recall = metrics.recall_score(rf_y_true, y_pred, average=\"weighted\")\n",
    "f1_score = metrics.f1_score(rf_y_true, y_pred, average=\"weighted\")\n",
    "\n",
    "print(\"Accuracy:\", accuracy)\n",
    "print(\"Precision Score:\", precision)\n",
    "print(\"Recall Score: \", recall)\n",
    "print(\"F1 Score: \", f1_score)\n",
    "print(rf_y_true)"
   ]
  },
  {
   "cell_type": "code",
   "execution_count": 58,
   "id": "2d30589d-9f01-4a5b-8347-a576e3d7883a",
   "metadata": {},
   "outputs": [
    {
     "name": "stdout",
     "output_type": "stream",
     "text": [
      "Class 4: AUC=0.99\n",
      "Class 5: AUC=1.00\n",
      "Class 6: AUC=1.00\n",
      "Class 7: AUC=1.00\n",
      "Class 8: AUC=0.99\n",
      "Class 10: AUC=1.00\n",
      "Class 11: AUC=1.00\n",
      "Class 13: AUC=1.00\n",
      "Class 14: AUC=1.00\n",
      "Class 15: AUC=1.00\n",
      "Class 18: AUC=1.00\n",
      "Class 19: AUC=1.00\n",
      "Class 30: AUC=1.00\n",
      "Class 31: AUC=1.00\n",
      "Class 34: AUC=1.00\n",
      "Class 36: AUC=1.00\n",
      "Class 37: AUC=1.00\n",
      "Class 41: AUC=1.00\n",
      "Class 42: AUC=1.00\n"
     ]
    }
   ],
   "source": [
    "#prediction and ROC / AUC\n",
    "def plot_roc(rf_y_true, rf_probs, class_labels):\n",
    "    \"\"\"Plots ROC curve and displays actual class numbers\"\"\"\n",
    "    rf_y_true_bin = label_binarize(rf_y_true, classes=class_labels)\n",
    "\n",
    "    for i, class_num in enumerate(class_labels):  # Use actual class numbers\n",
    "        if np.sum(rf_y_true_bin[:, i]) == 0:  # Skip if no positive samples\n",
    "            print(f\"Skipping class {class_num}: No positive samples in y_true\")\n",
    "            continue\n",
    "        \n",
    "        rf_fpr, rf_tpr, _ = roc_curve(rf_y_true_bin[:, i], rf_probs[:, i])\n",
    "        rf_auc_val = auc(rf_fpr, rf_tpr)\n",
    "        print(f'Class {class_num}: AUC={rf_auc_val:.2f}')\n",
    "\n",
    "# Get actual class numbers from y_true\n",
    "class_labels = np.unique(rf_y_true)  # Get unique class numbers\n",
    "\n",
    "# Ensure rf_probs has shape (n_samples, n_classes)\n",
    "rf_probs = rf_class.predict_proba(X_test)  # Get class probabilities\n",
    "plot_roc(rf_y_true, rf_probs, class_labels)"
   ]
  },
  {
   "cell_type": "code",
   "execution_count": null,
   "id": "4fdc0c95-ee3d-4cee-9d96-56cff722ff4e",
   "metadata": {},
   "outputs": [],
   "source": []
  }
 ],
 "metadata": {
  "kernelspec": {
   "display_name": "Python 3 (ipykernel)",
   "language": "python",
   "name": "python3"
  },
  "language_info": {
   "codemirror_mode": {
    "name": "ipython",
    "version": 3
   },
   "file_extension": ".py",
   "mimetype": "text/x-python",
   "name": "python",
   "nbconvert_exporter": "python",
   "pygments_lexer": "ipython3",
   "version": "3.12.6"
  }
 },
 "nbformat": 4,
 "nbformat_minor": 5
}
